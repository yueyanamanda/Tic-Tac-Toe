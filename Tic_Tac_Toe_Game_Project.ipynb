{
  "cells": [
    {
      "cell_type": "markdown",
      "metadata": {
        "id": "view-in-github",
        "colab_type": "text"
      },
      "source": [
        "<a href=\"https://colab.research.google.com/github/yueyanamanda/Tic-Tac-Toe/blob/main/Tic_Tac_Toe_Game_Project.ipynb\" target=\"_parent\"><img src=\"https://colab.research.google.com/assets/colab-badge.svg\" alt=\"Open In Colab\"/></a>"
      ]
    },
    {
      "cell_type": "markdown",
      "metadata": {
        "id": "BiTwY_h_-vBY"
      },
      "source": [
        "# Walkthrough Steps Workbook\n",
        "\n",
        "Below is a set of steps for your review that How I create the Tic Tac Toe game!"
      ]
    },
    {
      "cell_type": "markdown",
      "metadata": {
        "id": "y7w4JCh0-vBY"
      },
      "source": [
        "#### Some suggested tools I used in this program:\n",
        "To take input from a user:\n",
        "\n",
        "    player1 = input(\"Please pick a marker 'X' or 'O'\")\n",
        "    \n",
        "Note that input() takes in a string. If you need an integer value, use\n",
        "\n",
        "    position = int(input('Please enter a number'))\n",
        "    \n",
        "<br>To clear the screen between moves:\n",
        "\n",
        "    from IPython.display import clear_output\n",
        "    clear_output()\n",
        "    \n",
        "Note that clear_output() will only work in jupyter. To clear the screen in other IDEs, consider:\n",
        "\n",
        "    print('\\n'*100)\n",
        "    \n",
        "This scrolls the previous board up out of view. Now on to the program!"
      ]
    },
    {
      "cell_type": "markdown",
      "metadata": {
        "id": "D6OelPgs-vBY"
      },
      "source": [
        "#\n",
        "———————————————————————————————————————————————————————————————————\n",
        "\n",
        "**Step 1: Write a function that can print out a board. Set up board as a list, where each index 1-9 corresponds with a number on a number pad, so to get a 3 by 3 board representation.**"
      ]
    },
    {
      "cell_type": "code",
      "execution_count": 4,
      "metadata": {
        "collapsed": true,
        "id": "iVRWptEP-vBZ"
      },
      "outputs": [],
      "source": [
        "from IPython.display import clear_output\n",
        "\n",
        "def display_board(board):\n",
        "    # Define patterns for the board display\n",
        "    patterns = {1:'       ｜       ｜      ',2:'_______________________'}\n",
        "\n",
        "    # Print the board using the elements from the board list and the patterns\n",
        "    print(patterns[1]) # Top empty line\n",
        "    print(f\"   {board[7]}   ｜   {board[8]}   ｜   {board[9]}   \") # Top row (indices 7, 8, 9)\n",
        "    print(patterns[1]) # Top empty line\n",
        "    print(patterns[2]) # Separator\n",
        "    print(patterns[1]) # Middle empty line\n",
        "    print(f\"   {board[4]}   ｜   {board[5]}   ｜   {board[6]}   \") # Middle row (indices 4, 5, 6)\n",
        "    print(patterns[1]) # Middle empty line\n",
        "    print(patterns[2]) # Separator\n",
        "    print(patterns[1]) # Bottom empty line\n",
        "    print(f\"   {board[1]}   ｜   {board[2]}   ｜   {board[3]}   \") # Bottom row (indices 1, 2, 3)\n",
        "    print(patterns[1]) # Bottom empty line"
      ]
    },
    {
      "cell_type": "code",
      "source": [
        "# Define the board with a placeholder at index 0 to use indices 1-9\n",
        "board = [' '] + [str(i) for i in range(1, 10)]\n",
        "display_board(board)"
      ],
      "metadata": {
        "id": "7m31mW0PASko",
        "colab": {
          "base_uri": "https://localhost:8080/"
        },
        "outputId": "b4f53817-24ac-4950-a963-a5142afbd299"
      },
      "execution_count": 5,
      "outputs": [
        {
          "output_type": "stream",
          "name": "stdout",
          "text": [
            "       ｜       ｜      \n",
            "   7   ｜   8   ｜   9   \n",
            "       ｜       ｜      \n",
            "_______________________\n",
            "       ｜       ｜      \n",
            "   4   ｜   5   ｜   6   \n",
            "       ｜       ｜      \n",
            "_______________________\n",
            "       ｜       ｜      \n",
            "   1   ｜   2   ｜   3   \n",
            "       ｜       ｜      \n"
          ]
        }
      ]
    },
    {
      "cell_type": "markdown",
      "metadata": {
        "id": "DluZeJca-vBa"
      },
      "source": [
        "**TEST Step 1:** run your function on a test version of the board list, and make adjustments as necessary"
      ]
    },
    {
      "cell_type": "code",
      "execution_count": 6,
      "metadata": {
        "collapsed": true,
        "id": "Wpz9B1O9-vBa",
        "colab": {
          "base_uri": "https://localhost:8080/"
        },
        "outputId": "77e34738-db1b-44b0-947d-830c797a9f4f"
      },
      "outputs": [
        {
          "output_type": "stream",
          "name": "stdout",
          "text": [
            "       ｜       ｜      \n",
            "   X   ｜   O   ｜   X   \n",
            "       ｜       ｜      \n",
            "_______________________\n",
            "       ｜       ｜      \n",
            "   O   ｜   X   ｜   O   \n",
            "       ｜       ｜      \n",
            "_______________________\n",
            "       ｜       ｜      \n",
            "   X   ｜   O   ｜   X   \n",
            "       ｜       ｜      \n"
          ]
        }
      ],
      "source": [
        "# Define a test board with some markers\n",
        "test_board = ['#','X','O','X','O','X','O','X','O','X']\n",
        "display_board(test_board)"
      ]
    },
    {
      "cell_type": "markdown",
      "metadata": {
        "id": "3WCJbSqB-vBb"
      },
      "source": [
        "**Step 2: Write a function that can take in a player input and assign their marker as 'X' or 'O'. Think about using *while* loops to continually ask until you get a correct answer.**"
      ]
    },
    {
      "cell_type": "code",
      "execution_count": 7,
      "metadata": {
        "collapsed": true,
        "id": "H-oYrM4q-vBb"
      },
      "outputs": [],
      "source": [
        "def player_input():\n",
        "    marker = ''\n",
        "\n",
        "    # KEEP ASKING PLAYER 1 TO CHOOSE X OR O\n",
        "    while not (marker == 'X' or marker == 'O'):\n",
        "        marker = input('Player 1: Do you want to be X or O? ').upper()\n",
        "\n",
        "    # ASSIGN PLAYER 2, THE OPPOSITE MARKER\n",
        "    player1 = marker\n",
        "\n",
        "    if player1 == 'X':\n",
        "      player2 = 'O'\n",
        "      print('Play 2: You will be O')\n",
        "\n",
        "    else:\n",
        "      player2 = 'X'\n",
        "      print('Play 2: You will be X')\n",
        "\n",
        "    return(player1, player2)"
      ]
    },
    {
      "cell_type": "markdown",
      "metadata": {
        "id": "RsF7LtKO-vBb"
      },
      "source": [
        "**TEST Step 2:** run the function to make sure it returns the desired output"
      ]
    },
    {
      "cell_type": "code",
      "execution_count": 8,
      "metadata": {
        "collapsed": true,
        "id": "ahO4S488-vBb",
        "colab": {
          "base_uri": "https://localhost:8080/"
        },
        "outputId": "51ed62a3-a57d-49c4-85d9-892a1e331f9a"
      },
      "outputs": [
        {
          "output_type": "stream",
          "name": "stdout",
          "text": [
            "Player 1: Do you want to be X or O? x\n",
            "Play 2: You will be O\n"
          ]
        },
        {
          "output_type": "execute_result",
          "data": {
            "text/plain": [
              "('X', 'O')"
            ]
          },
          "metadata": {},
          "execution_count": 8
        }
      ],
      "source": [
        "player_input()"
      ]
    },
    {
      "cell_type": "markdown",
      "metadata": {
        "id": "azIBh2HY-vBc"
      },
      "source": [
        "**Step 3: Write a function that takes in the board list object, a marker ('X' or 'O'), and a desired position (number 1-9) and assigns it to the board.**"
      ]
    },
    {
      "cell_type": "code",
      "execution_count": 9,
      "metadata": {
        "collapsed": true,
        "id": "5tSzejK0-vBc"
      },
      "outputs": [],
      "source": [
        "def place_marker(board, marker, position):\n",
        "\n",
        "    board[position] = marker"
      ]
    },
    {
      "cell_type": "markdown",
      "metadata": {
        "id": "AfGVNWhT-vBc"
      },
      "source": [
        "**TEST Step 3:** run the place marker function using test parameters and display the modified board"
      ]
    },
    {
      "cell_type": "code",
      "execution_count": 10,
      "metadata": {
        "collapsed": true,
        "id": "f6hTkdR3-vBc",
        "colab": {
          "base_uri": "https://localhost:8080/"
        },
        "outputId": "6c16b1a7-4944-4742-e7ab-c751db9a2db8"
      },
      "outputs": [
        {
          "output_type": "stream",
          "name": "stdout",
          "text": [
            "       ｜       ｜      \n",
            "   X   ｜   $   ｜   X   \n",
            "       ｜       ｜      \n",
            "_______________________\n",
            "       ｜       ｜      \n",
            "   O   ｜   X   ｜   O   \n",
            "       ｜       ｜      \n",
            "_______________________\n",
            "       ｜       ｜      \n",
            "   X   ｜   O   ｜   X   \n",
            "       ｜       ｜      \n"
          ]
        }
      ],
      "source": [
        "place_marker(test_board,'$',8)\n",
        "display_board(test_board)"
      ]
    },
    {
      "cell_type": "markdown",
      "metadata": {
        "id": "16tMqO2w-vBc"
      },
      "source": [
        "**Step 4: Write a function that takes in a board and a mark (X or O) and then checks to see if that mark has won. **"
      ]
    },
    {
      "cell_type": "code",
      "execution_count": 11,
      "metadata": {
        "collapsed": true,
        "id": "HdUErKlO-vBc"
      },
      "outputs": [],
      "source": [
        "def win_check(board, mark):\n",
        "\n",
        "    # WIN TIC TAC TOE?\n",
        "\n",
        "    # ALL ROWS, AND CHECK TO SEE IF THEY ALL SHARE THE SAME MARKER?\n",
        "    return ((board[1] == mark and board[2] == mark and board[3] == mark) or\n",
        "    (board[4] == mark and board[5] == mark and board[6] == mark) or\n",
        "    (board[7] == mark and board[8] == mark and board[9] == mark) or\n",
        "    # 2 DIAGONALS, CHECK TO SEE MATCH\n",
        "    (board[1] == board[5] == board[9] == mark) or\n",
        "    (board[3] == board[5] == board[7] == mark) or\n",
        "    # ALL COLUMNS, CHECK TO SEE IF MARKER MATCHES\n",
        "    (board[1] == mark and board[4] == mark and board[7] == mark) or\n",
        "    (board[2] == mark and board[5] == mark and board[8] == mark) or\n",
        "    (board[3] == mark and board[6] == mark and board[9] == mark))"
      ]
    },
    {
      "cell_type": "markdown",
      "metadata": {
        "id": "xQ_Df1wG-vBc"
      },
      "source": [
        "**TEST Step 4:** run the win_check function against our test_board - it should return True"
      ]
    },
    {
      "cell_type": "code",
      "execution_count": 12,
      "metadata": {
        "collapsed": true,
        "id": "lpdyR7z8-vBc",
        "colab": {
          "base_uri": "https://localhost:8080/"
        },
        "outputId": "f893cabd-3476-435b-8ca6-08fa4e291813"
      },
      "outputs": [
        {
          "output_type": "execute_result",
          "data": {
            "text/plain": [
              "True"
            ]
          },
          "metadata": {},
          "execution_count": 12
        }
      ],
      "source": [
        "win_check(test_board,'X')"
      ]
    },
    {
      "cell_type": "markdown",
      "metadata": {
        "id": "yIBWp7sw-vBc"
      },
      "source": [
        "**Step 5: Write a function that uses the random module to randomly decide which player goes first. You may want to lookup random.randint() Return a string of which player went first.**"
      ]
    },
    {
      "cell_type": "code",
      "execution_count": 13,
      "metadata": {
        "collapsed": true,
        "id": "Y2vzFpse-vBc"
      },
      "outputs": [],
      "source": [
        "import random\n",
        "\n",
        "def choose_first():\n",
        "    flip = random.randint(0,1)\n",
        "\n",
        "    if flip == 0:\n",
        "        return 'player 1'\n",
        "    else:\n",
        "        return 'player 2'"
      ]
    },
    {
      "cell_type": "markdown",
      "metadata": {
        "id": "gAX9MoYN-vBd"
      },
      "source": [
        "**Step 6: Write a function that returns a boolean indicating whether a space on the board is freely available.**"
      ]
    },
    {
      "cell_type": "code",
      "execution_count": 14,
      "metadata": {
        "collapsed": true,
        "id": "PVGcHLU2-vBd"
      },
      "outputs": [],
      "source": [
        "def space_check(board, position):\n",
        "\n",
        "    return board[position] == ' '"
      ]
    },
    {
      "cell_type": "markdown",
      "metadata": {
        "id": "IC91CSba-vBd"
      },
      "source": [
        "**Step 7: Write a function that checks if the board is full and returns a boolean value. True if full, False otherwise.**"
      ]
    },
    {
      "cell_type": "code",
      "execution_count": 15,
      "metadata": {
        "collapsed": true,
        "id": "6gfr_XSa-vBd"
      },
      "outputs": [],
      "source": [
        "def full_board_check(board):\n",
        "\n",
        "    for i in range (1,10):\n",
        "        if space_check(board,i):\n",
        "            return False\n",
        "            print(\"The place is occupied, please pick antoher one\")\n",
        "\n",
        "    # BOARD IS FULL IS WE RETURN TRUE\n",
        "    return True"
      ]
    },
    {
      "cell_type": "markdown",
      "metadata": {
        "id": "o_l-meX2-vBd"
      },
      "source": [
        "**Step 8: Write a function that asks for a player's next position (as a number 1-9) and then uses the function from step 6 to check if it's a free position. If it is, then return the position for later use.**"
      ]
    },
    {
      "cell_type": "code",
      "execution_count": 16,
      "metadata": {
        "collapsed": true,
        "id": "6geKQl8u-vBd"
      },
      "outputs": [],
      "source": [
        "def player_choice(board):\n",
        "\n",
        "    position = 0\n",
        "\n",
        "    while position not in [1,2,3,4,5,6,7,8,9] or not space_check(board,position):\n",
        "        position = int(input('Choose a position: (1-9)'))\n",
        "\n",
        "    return position"
      ]
    },
    {
      "cell_type": "markdown",
      "metadata": {
        "id": "z-xGmHuu-vBd"
      },
      "source": [
        "**Step 9: Write a function that asks the player if they want to play again and returns a boolean True if they do want to play again.**"
      ]
    },
    {
      "cell_type": "code",
      "execution_count": 17,
      "metadata": {
        "collapsed": true,
        "id": "OsMRcCyI-vBd"
      },
      "outputs": [],
      "source": [
        "def replay():\n",
        "\n",
        "    choice = input('Play Again? YES or NO').upper\n",
        "\n",
        "    return choice == 'Yes'"
      ]
    },
    {
      "cell_type": "markdown",
      "metadata": {
        "collapsed": true,
        "id": "b-gQ3Xyz-vBd"
      },
      "source": [
        "**Step 10: Here comes the hard part! Use while loops and the functions you've made to run the game!**"
      ]
    },
    {
      "cell_type": "code",
      "execution_count": 18,
      "metadata": {
        "collapsed": true,
        "id": "guM-gVEd-vBd",
        "colab": {
          "base_uri": "https://localhost:8080/"
        },
        "outputId": "034bda56-4445-4dc6-a7e9-a9c69b71a86a"
      },
      "outputs": [
        {
          "name": "stdout",
          "output_type": "stream",
          "text": [
            "Welcome to Tic Tac Toe!\n",
            "Player 1: Do you want to be X or O? x\n",
            "Play 2: You will be O\n",
            "player 1 will go first\n",
            "Ready to play? YES or NO? yes\n",
            "       ｜       ｜      \n",
            "       ｜       ｜       \n",
            "       ｜       ｜      \n",
            "_______________________\n",
            "       ｜       ｜      \n",
            "       ｜       ｜       \n",
            "       ｜       ｜      \n",
            "_______________________\n",
            "       ｜       ｜      \n",
            "       ｜       ｜       \n",
            "       ｜       ｜      \n",
            "Choose a position: (1-9)9\n",
            "       ｜       ｜      \n",
            "       ｜       ｜   O   \n",
            "       ｜       ｜      \n",
            "_______________________\n",
            "       ｜       ｜      \n",
            "       ｜       ｜       \n",
            "       ｜       ｜      \n",
            "_______________________\n",
            "       ｜       ｜      \n",
            "       ｜       ｜       \n",
            "       ｜       ｜      \n",
            "Choose a position: (1-9)8\n",
            "       ｜       ｜      \n",
            "       ｜   X   ｜   O   \n",
            "       ｜       ｜      \n",
            "_______________________\n",
            "       ｜       ｜      \n",
            "       ｜       ｜       \n",
            "       ｜       ｜      \n",
            "_______________________\n",
            "       ｜       ｜      \n",
            "       ｜       ｜       \n",
            "       ｜       ｜      \n",
            "Choose a position: (1-9)6\n",
            "       ｜       ｜      \n",
            "       ｜   X   ｜   O   \n",
            "       ｜       ｜      \n",
            "_______________________\n",
            "       ｜       ｜      \n",
            "       ｜       ｜   O   \n",
            "       ｜       ｜      \n",
            "_______________________\n",
            "       ｜       ｜      \n",
            "       ｜       ｜       \n",
            "       ｜       ｜      \n",
            "Choose a position: (1-9)4\n",
            "       ｜       ｜      \n",
            "       ｜   X   ｜   O   \n",
            "       ｜       ｜      \n",
            "_______________________\n",
            "       ｜       ｜      \n",
            "   X   ｜       ｜   O   \n",
            "       ｜       ｜      \n",
            "_______________________\n",
            "       ｜       ｜      \n",
            "       ｜       ｜       \n",
            "       ｜       ｜      \n",
            "Choose a position: (1-9)3\n",
            "       ｜       ｜      \n",
            "       ｜   X   ｜   O   \n",
            "       ｜       ｜      \n",
            "_______________________\n",
            "       ｜       ｜      \n",
            "   X   ｜       ｜   O   \n",
            "       ｜       ｜      \n",
            "_______________________\n",
            "       ｜       ｜      \n",
            "       ｜       ｜   O   \n",
            "       ｜       ｜      \n",
            "Player 2 Win!\n",
            "Play Again? YES or NONo\n"
          ]
        }
      ],
      "source": [
        "# WHILE LOOP TO KEEP RUNNING THE GAME\n",
        "print('Welcome to Tic Tac Toe!')\n",
        "\n",
        "while True:\n",
        "    # PLAY THE GAME\n",
        "\n",
        "    ## SET EVERYTHING UP(BOARD, WHOS FIRST, CHOOSE MARKERS X,O)\n",
        "    the_board = [' ']*10\n",
        "    player1_marker, player2_marker = player_input()\n",
        "\n",
        "    turn = choose_first()\n",
        "    print(turn + ' will go first')\n",
        "\n",
        "    play_game = input('Ready to play? YES or NO? ').upper()\n",
        "\n",
        "    if play_game.lower()[0] == 'y': # Corrected: Added () to .lower() and changed 'Yes' to 'y' for case-insensitive check\n",
        "        game_on = True\n",
        "    else:\n",
        "        game_on = False\n",
        "\n",
        "    ## GAME PLAY\n",
        "    while game_on:\n",
        "        ### PLAYER ONE TURN\n",
        "        if turn == 'Player 1':\n",
        "            # SHOW THE BOARD\n",
        "            display_board(the_board)\n",
        "            # CHOOSE A POSITION\n",
        "            position = player_choice(the_board)\n",
        "            # PLACE THE MARKER ON THE POSITION\n",
        "            place_marker(the_board, player1_marker, position)\n",
        "            # CHECK IF THEY WON\n",
        "            if win_check(the_board, player1_marker):\n",
        "                display_board(the_board)\n",
        "                print('Player 1 Win!')\n",
        "                game_on = False\n",
        "            # OR CHECK IF THERE IS A TIE\n",
        "            else:\n",
        "                if full_board_check(the_board):\n",
        "                    display_board(the_board)\n",
        "                    print(\"TIE GAME\")\n",
        "                    game_on = False\n",
        "                else:\n",
        "                    turn = 'Player 2'\n",
        "        ### PLAYER TWO TURN\n",
        "        else:\n",
        "            # SHOW THE BOARD\n",
        "            display_board(the_board)\n",
        "            # CHOOSE A POSITION\n",
        "            position = player_choice(the_board)\n",
        "            # PLACE THE MARKER ON THE POSITION\n",
        "            place_marker(the_board, player2_marker, position)\n",
        "            # CHECK IF THEY WON\n",
        "            if win_check(the_board, player2_marker):\n",
        "                display_board(the_board)\n",
        "                print('Player 2 Win!')\n",
        "                game_on = False\n",
        "            # OR CHECK IF THERE IS A TIE\n",
        "            else:\n",
        "                if full_board_check(the_board):\n",
        "                    display_board(the_board)\n",
        "                    print(\"TIE GAME\")\n",
        "                    game_on = False\n",
        "                else:\n",
        "                    turn = 'Player 1'\n",
        "\n",
        "    if not replay(): # Corrected: Removed the comparison to 'yes'\n",
        "        break"
      ]
    },
    {
      "cell_type": "markdown",
      "metadata": {
        "collapsed": true,
        "id": "pSiwZUcW-vBd"
      },
      "source": [
        "## Good Job!"
      ]
    }
  ],
  "metadata": {
    "kernelspec": {
      "display_name": "Python 3",
      "language": "python",
      "name": "python3"
    },
    "language_info": {
      "codemirror_mode": {
        "name": "ipython",
        "version": 3
      },
      "file_extension": ".py",
      "mimetype": "text/x-python",
      "name": "python",
      "nbconvert_exporter": "python",
      "pygments_lexer": "ipython3",
      "version": "3.6.6"
    },
    "colab": {
      "provenance": [],
      "include_colab_link": true
    }
  },
  "nbformat": 4,
  "nbformat_minor": 0
}